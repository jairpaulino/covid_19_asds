{
  "cells": [
    {
      "cell_type": "markdown",
      "metadata": {
        "id": "yclqFnE-Yn_6"
      },
      "source": [
        "# Imports"
      ]
    },
    {
      "cell_type": "code",
      "execution_count": 1,
      "metadata": {
        "id": "6nv-wfs6ZXcG"
      },
      "outputs": [],
      "source": [
        "from datetime import datetime as dt\n",
        "import numpy as np\n",
        "import pandas as pd\n",
        "import warnings\n",
        "import os\n",
        "import logging\n",
        "import sys\n",
        "warnings.filterwarnings('ignore')"
      ]
    },
    {
      "cell_type": "code",
      "execution_count": 2,
      "metadata": {},
      "outputs": [],
      "source": [
        "import statsmodels.api as sm\n",
        "import statsmodels.graphics as smg\n",
        "import statsmodels.stats as sm_stats\n",
        "import statsmodels.tsa.api as tsa"
      ]
    },
    {
      "cell_type": "code",
      "execution_count": 3,
      "metadata": {
        "id": "M9FtTrXwZYYO"
      },
      "outputs": [],
      "source": [
        "#metrics\n",
        "from sklearn.metrics import mean_absolute_error, mean_squared_error, r2_score, mean_absolute_percentage_error"
      ]
    },
    {
      "cell_type": "code",
      "execution_count": 4,
      "metadata": {
        "id": "KW2CUQ1lCmXy"
      },
      "outputs": [],
      "source": [
        "import optuna"
      ]
    },
    {
      "cell_type": "code",
      "execution_count": 5,
      "metadata": {
        "id": "vf3XrRAhZlj9"
      },
      "outputs": [],
      "source": [
        "#visualization\n",
        "import matplotlib.pyplot as plt\n",
        "import seaborn as sns\n",
        "sns.set_theme()\n",
        "\n",
        "import seaborn as sns\n",
        "\n",
        "from statsmodels.graphics.tsaplots import plot_acf, plot_pacf"
      ]
    },
    {
      "cell_type": "code",
      "execution_count": 6,
      "metadata": {
        "id": "_iEGDkfEwjFT"
      },
      "outputs": [],
      "source": [
        "import sklearn"
      ]
    },
    {
      "cell_type": "code",
      "execution_count": 7,
      "metadata": {
        "id": "Jw9n0UvCk8LF"
      },
      "outputs": [],
      "source": [
        "from sklearn.ensemble import GradientBoostingRegressor\n",
        "from sklearn.ensemble import RandomForestRegressor\n",
        "from sklearn.linear_model import LinearRegression\n",
        "from sklearn.ensemble import VotingRegressor"
      ]
    },
    {
      "cell_type": "code",
      "execution_count": 8,
      "metadata": {
        "id": "lxSqIRDRb6i3"
      },
      "outputs": [],
      "source": [
        "#from tqdm import tqdm\n",
        "from tqdm.notebook import tqdm, tqdm_notebook, tnrange\n",
        "from tqdm import trange"
      ]
    },
    {
      "cell_type": "markdown",
      "metadata": {
        "id": "z0DdMdXPnZQD"
      },
      "source": [
        "# Functions"
      ]
    },
    {
      "cell_type": "code",
      "execution_count": 9,
      "metadata": {
        "id": "0bt6YAFaAbtL"
      },
      "outputs": [],
      "source": [
        "def eval_metrics(actual, pred):\n",
        "    rmse = np.sqrt(mean_squared_error(actual, pred))\n",
        "    mae = mean_absolute_error(actual, pred)\n",
        "    mape = mean_absolute_percentage_error(actual, pred)\n",
        "    r2 = r2_score(actual, pred)\n",
        "    return {'rmse': rmse, 'mae': mae, 'mape': mape, 'r2':r2}"
      ]
    },
    {
      "cell_type": "markdown",
      "metadata": {
        "id": "jOQer_08ai1v"
      },
      "source": [
        "## Preprocessing"
      ]
    },
    {
      "cell_type": "markdown",
      "metadata": {
        "id": "fze4Lw5g2-ki"
      },
      "source": [
        "Data cleaning "
      ]
    },
    {
      "cell_type": "code",
      "execution_count": 295,
      "metadata": {
        "id": "r9IhpOnxlQqq"
      },
      "outputs": [],
      "source": [
        "country = 'Brazil'\n",
        "#country = 'India'\n",
        "#country = 'US'\n",
        "#country = country_selection.value"
      ]
    },
    {
      "cell_type": "code",
      "execution_count": 296,
      "metadata": {},
      "outputs": [],
      "source": [
        "df = pd.read_csv('../Data/'+country+\"_daily.csv\", index_col=0)"
      ]
    },
    {
      "cell_type": "code",
      "execution_count": 297,
      "metadata": {
        "id": "0I3yF9DcaezO"
      },
      "outputs": [],
      "source": [
        "end = dt(year=2021, month=12, day=31)"
      ]
    },
    {
      "cell_type": "code",
      "execution_count": 298,
      "metadata": {
        "id": "0TeUNnYamnID"
      },
      "outputs": [],
      "source": [
        "df.index = pd.to_datetime(df.index)\n",
        "df2 = df.loc[pd.date_range(start=end, end='2022-02-20')]\n",
        "df = df.loc[pd.date_range(start='2020-01-22', end=end)]"
      ]
    },
    {
      "cell_type": "code",
      "execution_count": 299,
      "metadata": {
        "id": "OWSIGfm_FGVI"
      },
      "outputs": [],
      "source": [
        "def fix_outliers(df,q = .99, zero = True):\n",
        "  # cortar período inicial sem casos\n",
        "  for k,d in enumerate(df):\n",
        "    if k > 0 and d > df.iloc[k-1]:\n",
        "      break\n",
        "  df = df.iloc[k:]\n",
        "  # substituir zeros\n",
        "  if zero == False:\n",
        "    df = df.mask(df == 0, np.nan).fillna(method='bfill')\n",
        "  # converter valores extremos para NaN e substituir pelo anterior\n",
        "  df = df.mask(df > df.quantile(q), np.nan).fillna(method='bfill')\n",
        "  df = df.mask(df < 0, np.nan).fillna(0)\n",
        "  return df"
      ]
    },
    {
      "cell_type": "code",
      "execution_count": 300,
      "metadata": {
        "id": "XQhfYgM3HVdo"
      },
      "outputs": [],
      "source": [
        "data = fix_outliers(df)"
      ]
    },
    {
      "cell_type": "code",
      "execution_count": 301,
      "metadata": {
        "id": "Cm18bYf8mHj7"
      },
      "outputs": [],
      "source": [
        "data2 = fix_outliers(df2)"
      ]
    },
    {
      "cell_type": "code",
      "execution_count": 302,
      "metadata": {
        "colab": {
          "base_uri": "https://localhost:8080/"
        },
        "id": "zvkPhI4eLVZa",
        "outputId": "c4be1c09-ec72-4916-a7d4-6bc943676647"
      },
      "outputs": [],
      "source": [
        "train_data = data.iloc[:int(len(data)*0.7)] \n",
        "val_data = data.iloc[int(len(data)*0.7):int(len(data)*0.9)]\n",
        "test_data = data.iloc[-int(len(data)*0.1):]"
      ]
    },
    {
      "cell_type": "markdown",
      "metadata": {},
      "source": [
        "# Split"
      ]
    },
    {
      "cell_type": "code",
      "execution_count": 303,
      "metadata": {
        "id": "2xf-4MY55s0e"
      },
      "outputs": [],
      "source": [
        "X_train = pd.DataFrame(tsa.add_lag(train_data, lags =14))\n",
        "#X_train = pd.DataFrame(tsa.add_lag(train_data.diff().dropna(), lags =14))\n",
        "y_train = torch.from_numpy(X_train.pop(0).values.reshape(-1,1)).float()"
      ]
    },
    {
      "cell_type": "code",
      "execution_count": 304,
      "metadata": {
        "id": "9WQ-QAT69Drh"
      },
      "outputs": [],
      "source": [
        "X_val = pd.DataFrame(tsa.add_lag(val_data, lags =14))\n",
        "#X_train = pd.DataFrame(tsa.add_lag(train_data.diff().dropna(), lags =14))\n",
        "y_val = torch.from_numpy(X_val.pop(0).values.reshape(-1,1)).float()"
      ]
    },
    {
      "cell_type": "code",
      "execution_count": 305,
      "metadata": {
        "id": "_eLQ2BHDa5ND"
      },
      "outputs": [],
      "source": [
        "#X_test = pd.DataFrame(tsa.add_lag(test_data, lags =14))\n",
        "X_test = pd.DataFrame(tsa.add_lag(test_data, lags =14))\n",
        "y_test = torch.from_numpy(X_test.pop(0).values.reshape(-1,1)).float()"
      ]
    },
    {
      "cell_type": "markdown",
      "metadata": {},
      "source": [
        "# Normalização"
      ]
    },
    {
      "cell_type": "code",
      "execution_count": 306,
      "metadata": {},
      "outputs": [],
      "source": [
        "X_train_sd = ((X_train - train_data.mean())/train_data.std()).values\n",
        "X_train_sd = torch.from_numpy(X_train_sd).float()\n",
        "X_val_sd = ((X_val - train_data.mean())/train_data.std()).values\n",
        "X_val_sd = torch.from_numpy(X_val_sd).float()\n",
        "X_test_sd = ((X_test - train_data.mean())/train_data.std()).values\n",
        "X_test_sd = torch.from_numpy(X_test_sd).float()"
      ]
    },
    {
      "cell_type": "code",
      "execution_count": 307,
      "metadata": {},
      "outputs": [],
      "source": [
        "min_value = float(train_data.min())\n",
        "base = float(train_data.max()) - float(train_data.min())\n",
        "\n",
        "X_train_mm = (X_train - min_value)/base\n",
        "X_val_mm = (X_val - min_value)/base\n",
        "X_test_mm = (X_test - min_value)/base"
      ]
    },
    {
      "cell_type": "code",
      "execution_count": 308,
      "metadata": {},
      "outputs": [],
      "source": [
        "min_value = float(train_data.min())\n",
        "base = float(train_data.max()) - float(train_data.min())\n",
        "\n",
        "X_train_mm = ((X_train - min_value)/base).to_numpy()\n",
        "X_train_mm = torch.from_numpy(X_train_mm).float()\n",
        "X_val_mm = ((X_val - min_value)/base).to_numpy()\n",
        "X_val_mm = torch.from_numpy(X_val_mm).float()\n",
        "X_test_mm = ((X_test - min_value)/base).to_numpy()\n",
        "X_test_mm = torch.from_numpy(X_test_mm).float()"
      ]
    },
    {
      "cell_type": "markdown",
      "metadata": {
        "id": "pJyxIocYl8h7"
      },
      "source": [
        "# ELM\n",
        "\n"
      ]
    },
    {
      "cell_type": "code",
      "execution_count": 309,
      "metadata": {
        "id": "Pi9kNfo1tsLL"
      },
      "outputs": [],
      "source": [
        "import torch\n",
        "import torch.nn as nn\n",
        "import torch.optim as optim"
      ]
    },
    {
      "cell_type": "code",
      "execution_count": 310,
      "metadata": {},
      "outputs": [],
      "source": [
        "device = 'cuda' if torch.cuda.is_available() else 'cpu'"
      ]
    },
    {
      "cell_type": "code",
      "execution_count": 311,
      "metadata": {},
      "outputs": [],
      "source": [
        "class ELM():\n",
        "    def __init__(self, input_size, h_size, activation, device=None):\n",
        "        self._input_size = input_size\n",
        "        self._h_size = h_size\n",
        "        self._output_size = 1\n",
        "        self._device = device\n",
        "\n",
        "        self._alpha = nn.init.uniform_(torch.empty(self._input_size, self._h_size, device=self._device), a=-1., b=1.)\n",
        "        self._beta = nn.init.uniform_(torch.empty(self._h_size, self._output_size, device=self._device), a=-1., b=1.)\n",
        "\n",
        "        self._bias = torch.zeros(self._h_size, device=self._device)\n",
        "\n",
        "        if activation == 'tanh':\n",
        "            self._activation = torch.tanh\n",
        "        elif activation == 'relu':\n",
        "            self._activation = torch.relu\n",
        "        elif activation == 'sigmoid':\n",
        "            self._activation = torch.sigmoid\n",
        "\n",
        "    def predict(self, x):\n",
        "        h = self._activation(torch.add(x.mm(self._alpha), self._bias))\n",
        "        out = h.mm(self._beta)\n",
        "\n",
        "        return out\n",
        "\n",
        "    def fit(self, x, t):\n",
        "        temp = x.mm(self._alpha)\n",
        "        H = self._activation(torch.add(temp, self._bias))\n",
        "\n",
        "        H_pinv = torch.pinverse(H)\n",
        "        self._beta = H_pinv.mm(t)"
      ]
    },
    {
      "cell_type": "code",
      "execution_count": 312,
      "metadata": {
        "id": "6EzZ-kg6q3hE"
      },
      "outputs": [],
      "source": [
        "def objective(trial):\n",
        "\n",
        "    #h_size = trial.suggest_int(\"h_size\", 2, 20)\n",
        "    h_size = trial.suggest_int(\"h_size\", 2, 200)\n",
        "    activation = trial.suggest_categorical(\"activation\", [\"sigmoid\", \"tanh\", \"relu\"])\n",
        "    # Generate the model.\n",
        "    results = np.zeros(10)\n",
        "    \n",
        "    for i in range(10):\n",
        "        model = ELM(input_size=14, h_size=h_size, activation=activation, device=device)\n",
        "        model.fit(X_train_mm, y_train)\n",
        "        y_pred = model.predict(X_val_mm)\n",
        "        mse = -mean_squared_error(y_val, y_pred)\n",
        "        results[i] = mse\n",
        "\n",
        "    return results.mean()"
      ]
    },
    {
      "cell_type": "code",
      "execution_count": 313,
      "metadata": {},
      "outputs": [],
      "source": [
        "# Add stream handler of stdout to show the messages\n",
        "optuna.logging.get_logger(\"optuna\").addHandler(logging.StreamHandler(sys.stdout))\n",
        "optuna.logging.set_verbosity(0)\n",
        "study_name = \"elm-study-\"+country+str(dt.now())  # Unique identifier of the study.\n",
        "storage_name = \"sqlite:///db/{}.db\".format(study_name)"
      ]
    },
    {
      "cell_type": "code",
      "execution_count": 314,
      "metadata": {
        "colab": {
          "base_uri": "https://localhost:8080/",
          "height": 592
        },
        "id": "JjtKjCQB7-y1",
        "outputId": "ae6b7939-3a27-4365-90b6-79e9cdd55c4c"
      },
      "outputs": [
        {
          "name": "stderr",
          "output_type": "stream",
          "text": [
            "100%|██████████| 60/60 [00:08<00:00,  6.73it/s]"
          ]
        },
        {
          "name": "stdout",
          "output_type": "stream",
          "text": [
            "FrozenTrial(number=48, values=[-45804800.0], datetime_start=datetime.datetime(2022, 5, 5, 18, 24, 13, 550858), datetime_complete=datetime.datetime(2022, 5, 5, 18, 24, 13, 652652), params={'activation': 'sigmoid', 'h_size': 36}, distributions={'activation': CategoricalDistribution(choices=('sigmoid', 'tanh', 'relu')), 'h_size': IntUniformDistribution(high=200, low=2, step=1)}, user_attrs={}, system_attrs={}, intermediate_values={}, trial_id=49, state=TrialState.COMPLETE, value=None)\n",
            "CPU times: user 4.61 s, sys: 2.69 s, total: 7.31 s\n",
            "Wall time: 9.3 s\n"
          ]
        },
        {
          "name": "stderr",
          "output_type": "stream",
          "text": [
            "\n"
          ]
        }
      ],
      "source": [
        "%%time\n",
        "study = optuna.create_study(direction=\"maximize\", study_name=study_name, storage=storage_name)\n",
        "#study = optuna.create_study(direction=\"minimize\", study_name=study_name)\n",
        "study.optimize(objective, n_trials=60, show_progress_bar=True)\n",
        "print(study.best_trial)"
      ]
    },
    {
      "cell_type": "code",
      "execution_count": 315,
      "metadata": {},
      "outputs": [],
      "source": [
        "df_trials = [{'value': t.value, 'h_size': t.params['h_size'], 'actv': t.params['activation']}  for t in study.trials]\n",
        "#pd.DataFrame.from_records(df_trials)"
      ]
    },
    {
      "cell_type": "code",
      "execution_count": 316,
      "metadata": {},
      "outputs": [
        {
          "data": {
            "text/plain": [
              "<AxesSubplot:xlabel='h_size', ylabel='value'>"
            ]
          },
          "execution_count": 316,
          "metadata": {},
          "output_type": "execute_result"
        },
        {
          "data": {
            "image/png": "[encoded data removed]",
            "text/plain": [
              "<Figure size 432x288 with 1 Axes>"
            ]
          },
          "metadata": {},
          "output_type": "display_data"
        }
      ],
      "source": [
        "sns.scatterplot(data= pd.DataFrame(df_trials), x='h_size', y='value', hue='actv')"
      ]
    },
    {
      "cell_type": "code",
      "execution_count": 317,
      "metadata": {},
      "outputs": [],
      "source": [
        "importance = optuna.importance.get_param_importances(study)"
      ]
    },
    {
      "cell_type": "code",
      "execution_count": 318,
      "metadata": {},
      "outputs": [
        {
          "data": {
            "text/plain": [
              "<AxesSubplot:title={'center':'importance'}>"
            ]
          },
          "execution_count": 318,
          "metadata": {},
          "output_type": "execute_result"
        },
        {
          "data": {
            "image/png": "[encoded data removed]",
            "text/plain": [
              "<Figure size 432x288 with 1 Axes>"
            ]
          },
          "metadata": {},
          "output_type": "display_data"
        }
      ],
      "source": [
        "pd.Series(importance).plot.barh(title='importance')"
      ]
    },
    {
      "cell_type": "code",
      "execution_count": 319,
      "metadata": {
        "colab": {
          "base_uri": "https://localhost:8080/"
        },
        "id": "ukcl1LK8pX6U",
        "outputId": "e9f43fdf-c6a9-402c-944c-7688a5dae0dc"
      },
      "outputs": [
        {
          "data": {
            "text/plain": [
              "{'activation': 'sigmoid', 'h_size': 36}"
            ]
          },
          "execution_count": 319,
          "metadata": {},
          "output_type": "execute_result"
        }
      ],
      "source": [
        "params = study.best_params\n",
        "params"
      ]
    },
    {
      "cell_type": "code",
      "execution_count": 320,
      "metadata": {
        "id": "P2XODeY3oEon"
      },
      "outputs": [],
      "source": [
        "best_elm = ELM(input_size=14, h_size=params['h_size'], activation=params['activation'], device=device)"
      ]
    },
    {
      "cell_type": "code",
      "execution_count": 321,
      "metadata": {
        "colab": {
          "base_uri": "https://localhost:8080/"
        },
        "id": "dEWWO5TqWQzV",
        "outputId": "0ca0ef30-578d-4e13-dca7-f5db688f32cd"
      },
      "outputs": [
        {
          "name": "stdout",
          "output_type": "stream",
          "text": [
            "CPU times: user 2.28 ms, sys: 946 µs, total: 3.22 ms\n",
            "Wall time: 2.09 ms\n"
          ]
        }
      ],
      "source": [
        "%%time\n",
        "best_elm.fit(X_train_mm, y_train)"
      ]
    },
    {
      "cell_type": "code",
      "execution_count": 322,
      "metadata": {
        "colab": {
          "base_uri": "https://localhost:8080/"
        },
        "id": "zVDVFPBOaxwO",
        "outputId": "552930cd-a7c3-4d2c-db10-023b0426af7f"
      },
      "outputs": [
        {
          "data": {
            "text/plain": [
              "{'rmse': 2136.7756,\n",
              " 'mae': 1705.8247,\n",
              " 'mape': 0.31775093,\n",
              " 'r2': 0.7052829692336035}"
            ]
          },
          "execution_count": 322,
          "metadata": {},
          "output_type": "execute_result"
        }
      ],
      "source": [
        "metrics = eval_metrics(y_test, best_elm.predict(X_test_mm))\n",
        "metrics"
      ]
    },
    {
      "cell_type": "code",
      "execution_count": 323,
      "metadata": {},
      "outputs": [],
      "source": [
        "elm = ELM(input_size=14, h_size=20, activation='relu', device=device)"
      ]
    },
    {
      "cell_type": "code",
      "execution_count": 324,
      "metadata": {},
      "outputs": [
        {
          "data": {
            "text/plain": [
              "{'rmse': 2898.702,\n",
              " 'mae': 2350.109,\n",
              " 'mape': 0.42884332,\n",
              " 'r2': 0.45763151017648385}"
            ]
          },
          "execution_count": 324,
          "metadata": {},
          "output_type": "execute_result"
        }
      ],
      "source": [
        "elm = ELM(input_size=14, h_size=20, activation='relu', device=device)\n",
        "elm.fit(X_train_mm, y_train)\n",
        "eval_metrics(y_test, elm.predict(X_test_mm))"
      ]
    },
    {
      "cell_type": "code",
      "execution_count": 325,
      "metadata": {},
      "outputs": [
        {
          "data": {
            "text/plain": [
              "<matplotlib.legend.Legend at 0x14532b7c0>"
            ]
          },
          "execution_count": 325,
          "metadata": {},
          "output_type": "execute_result"
        },
        {
          "data": {
            "image/png": "[encoded data removed]",
            "text/plain": [
              "<Figure size 432x288 with 1 Axes>"
            ]
          },
          "metadata": {},
          "output_type": "display_data"
        }
      ],
      "source": [
        "fig, ax = plt.subplots()\n",
        "ax.plot(best_elm.predict(X_test_mm).flatten(), label='pred')\n",
        "ax.plot(y_test, label='true')\n",
        "plt.legend()"
      ]
    },
    {
      "cell_type": "code",
      "execution_count": 326,
      "metadata": {},
      "outputs": [],
      "source": [
        "from sqlalchemy import create_engine\n",
        "engine = create_engine(\"sqlite:///db/{}.db\".format(study_name))"
      ]
    },
    {
      "cell_type": "code",
      "execution_count": 327,
      "metadata": {},
      "outputs": [
        {
          "data": {
            "text/html": [
              "<div>\n",
              "<style scoped>\n",
              "    .dataframe tbody tr th:only-of-type {\n",
              "        vertical-align: middle;\n",
              "    }\n",
              "\n",
              "    .dataframe tbody tr th {\n",
              "        vertical-align: top;\n",
              "    }\n",
              "\n",
              "    .dataframe thead th {\n",
              "        text-align: right;\n",
              "    }\n",
              "</style>\n",
              "<table border=\"1\" class=\"dataframe\">\n",
              "  <thead>\n",
              "    <tr style=\"text-align: right;\">\n",
              "      <th></th>\n",
              "      <th>name</th>\n",
              "    </tr>\n",
              "  </thead>\n",
              "  <tbody>\n",
              "    <tr>\n",
              "      <th>0</th>\n",
              "      <td>studies</td>\n",
              "    </tr>\n",
              "    <tr>\n",
              "      <th>1</th>\n",
              "      <td>version_info</td>\n",
              "    </tr>\n",
              "    <tr>\n",
              "      <th>2</th>\n",
              "      <td>study_directions</td>\n",
              "    </tr>\n",
              "    <tr>\n",
              "      <th>3</th>\n",
              "      <td>study_user_attributes</td>\n",
              "    </tr>\n",
              "    <tr>\n",
              "      <th>4</th>\n",
              "      <td>study_system_attributes</td>\n",
              "    </tr>\n",
              "    <tr>\n",
              "      <th>5</th>\n",
              "      <td>trials</td>\n",
              "    </tr>\n",
              "    <tr>\n",
              "      <th>6</th>\n",
              "      <td>trial_user_attributes</td>\n",
              "    </tr>\n",
              "    <tr>\n",
              "      <th>7</th>\n",
              "      <td>trial_system_attributes</td>\n",
              "    </tr>\n",
              "    <tr>\n",
              "      <th>8</th>\n",
              "      <td>trial_params</td>\n",
              "    </tr>\n",
              "    <tr>\n",
              "      <th>9</th>\n",
              "      <td>trial_values</td>\n",
              "    </tr>\n",
              "    <tr>\n",
              "      <th>10</th>\n",
              "      <td>trial_intermediate_values</td>\n",
              "    </tr>\n",
              "    <tr>\n",
              "      <th>11</th>\n",
              "      <td>trial_heartbeats</td>\n",
              "    </tr>\n",
              "    <tr>\n",
              "      <th>12</th>\n",
              "      <td>alembic_version</td>\n",
              "    </tr>\n",
              "  </tbody>\n",
              "</table>\n",
              "</div>"
            ],
            "text/plain": [
              "                         name\n",
              "0                     studies\n",
              "1                version_info\n",
              "2            study_directions\n",
              "3       study_user_attributes\n",
              "4     study_system_attributes\n",
              "5                      trials\n",
              "6       trial_user_attributes\n",
              "7     trial_system_attributes\n",
              "8                trial_params\n",
              "9                trial_values\n",
              "10  trial_intermediate_values\n",
              "11           trial_heartbeats\n",
              "12            alembic_version"
            ]
          },
          "execution_count": 327,
          "metadata": {},
          "output_type": "execute_result"
        }
      ],
      "source": [
        "tables = pd.read_sql(\"SELECT name FROM sqlite_schema WHERE type ='table' AND name NOT LIKE 'sqlite_%';\", engine)\n",
        "tables"
      ]
    },
    {
      "cell_type": "code",
      "execution_count": 328,
      "metadata": {},
      "outputs": [
        {
          "data": {
            "text/html": [
              "<div>\n",
              "<style scoped>\n",
              "    .dataframe tbody tr th:only-of-type {\n",
              "        vertical-align: middle;\n",
              "    }\n",
              "\n",
              "    .dataframe tbody tr th {\n",
              "        vertical-align: top;\n",
              "    }\n",
              "\n",
              "    .dataframe thead th {\n",
              "        text-align: right;\n",
              "    }\n",
              "</style>\n",
              "<table border=\"1\" class=\"dataframe\">\n",
              "  <thead>\n",
              "    <tr style=\"text-align: right;\">\n",
              "      <th></th>\n",
              "      <th>trial_id</th>\n",
              "      <th>number</th>\n",
              "      <th>study_id</th>\n",
              "      <th>state</th>\n",
              "      <th>datetime_start</th>\n",
              "      <th>datetime_complete</th>\n",
              "      <th>trial_value_id</th>\n",
              "      <th>trial_id</th>\n",
              "      <th>objective</th>\n",
              "      <th>value</th>\n",
              "      <th>param_id</th>\n",
              "      <th>trial_id</th>\n",
              "      <th>param_name</th>\n",
              "      <th>param_value</th>\n",
              "      <th>distribution_json</th>\n",
              "    </tr>\n",
              "  </thead>\n",
              "  <tbody>\n",
              "    <tr>\n",
              "      <th>0</th>\n",
              "      <td>1</td>\n",
              "      <td>0</td>\n",
              "      <td>1</td>\n",
              "      <td>COMPLETE</td>\n",
              "      <td>2022-05-05 18:24:07.088910</td>\n",
              "      <td>2022-05-05 18:24:07.211411</td>\n",
              "      <td>1</td>\n",
              "      <td>1</td>\n",
              "      <td>0</td>\n",
              "      <td>-133734448.0</td>\n",
              "      <td>1</td>\n",
              "      <td>1</td>\n",
              "      <td>h_size</td>\n",
              "      <td>196.0</td>\n",
              "      <td>{\"name\": \"IntUniformDistribution\", \"attributes...</td>\n",
              "    </tr>\n",
              "    <tr>\n",
              "      <th>1</th>\n",
              "      <td>1</td>\n",
              "      <td>0</td>\n",
              "      <td>1</td>\n",
              "      <td>COMPLETE</td>\n",
              "      <td>2022-05-05 18:24:07.088910</td>\n",
              "      <td>2022-05-05 18:24:07.211411</td>\n",
              "      <td>1</td>\n",
              "      <td>1</td>\n",
              "      <td>0</td>\n",
              "      <td>-133734448.0</td>\n",
              "      <td>2</td>\n",
              "      <td>1</td>\n",
              "      <td>activation</td>\n",
              "      <td>1.0</td>\n",
              "      <td>{\"name\": \"CategoricalDistribution\", \"attribute...</td>\n",
              "    </tr>\n",
              "    <tr>\n",
              "      <th>2</th>\n",
              "      <td>2</td>\n",
              "      <td>1</td>\n",
              "      <td>1</td>\n",
              "      <td>COMPLETE</td>\n",
              "      <td>2022-05-05 18:24:07.261027</td>\n",
              "      <td>2022-05-05 18:24:07.357784</td>\n",
              "      <td>2</td>\n",
              "      <td>2</td>\n",
              "      <td>0</td>\n",
              "      <td>-71304232.0</td>\n",
              "      <td>3</td>\n",
              "      <td>2</td>\n",
              "      <td>h_size</td>\n",
              "      <td>120.0</td>\n",
              "      <td>{\"name\": \"IntUniformDistribution\", \"attributes...</td>\n",
              "    </tr>\n",
              "    <tr>\n",
              "      <th>3</th>\n",
              "      <td>2</td>\n",
              "      <td>1</td>\n",
              "      <td>1</td>\n",
              "      <td>COMPLETE</td>\n",
              "      <td>2022-05-05 18:24:07.261027</td>\n",
              "      <td>2022-05-05 18:24:07.357784</td>\n",
              "      <td>2</td>\n",
              "      <td>2</td>\n",
              "      <td>0</td>\n",
              "      <td>-71304232.0</td>\n",
              "      <td>4</td>\n",
              "      <td>2</td>\n",
              "      <td>activation</td>\n",
              "      <td>1.0</td>\n",
              "      <td>{\"name\": \"CategoricalDistribution\", \"attribute...</td>\n",
              "    </tr>\n",
              "    <tr>\n",
              "      <th>4</th>\n",
              "      <td>3</td>\n",
              "      <td>2</td>\n",
              "      <td>1</td>\n",
              "      <td>COMPLETE</td>\n",
              "      <td>2022-05-05 18:24:07.396055</td>\n",
              "      <td>2022-05-05 18:24:07.497428</td>\n",
              "      <td>3</td>\n",
              "      <td>3</td>\n",
              "      <td>0</td>\n",
              "      <td>-111138720.0</td>\n",
              "      <td>5</td>\n",
              "      <td>3</td>\n",
              "      <td>h_size</td>\n",
              "      <td>161.0</td>\n",
              "      <td>{\"name\": \"IntUniformDistribution\", \"attributes...</td>\n",
              "    </tr>\n",
              "    <tr>\n",
              "      <th>...</th>\n",
              "      <td>...</td>\n",
              "      <td>...</td>\n",
              "      <td>...</td>\n",
              "      <td>...</td>\n",
              "      <td>...</td>\n",
              "      <td>...</td>\n",
              "      <td>...</td>\n",
              "      <td>...</td>\n",
              "      <td>...</td>\n",
              "      <td>...</td>\n",
              "      <td>...</td>\n",
              "      <td>...</td>\n",
              "      <td>...</td>\n",
              "      <td>...</td>\n",
              "      <td>...</td>\n",
              "    </tr>\n",
              "    <tr>\n",
              "      <th>115</th>\n",
              "      <td>58</td>\n",
              "      <td>57</td>\n",
              "      <td>1</td>\n",
              "      <td>COMPLETE</td>\n",
              "      <td>2022-05-05 18:24:15.643470</td>\n",
              "      <td>2022-05-05 18:24:15.728973</td>\n",
              "      <td>58</td>\n",
              "      <td>58</td>\n",
              "      <td>0</td>\n",
              "      <td>-47547076.0</td>\n",
              "      <td>116</td>\n",
              "      <td>58</td>\n",
              "      <td>activation</td>\n",
              "      <td>0.0</td>\n",
              "      <td>{\"name\": \"CategoricalDistribution\", \"attribute...</td>\n",
              "    </tr>\n",
              "    <tr>\n",
              "      <th>116</th>\n",
              "      <td>59</td>\n",
              "      <td>58</td>\n",
              "      <td>1</td>\n",
              "      <td>COMPLETE</td>\n",
              "      <td>2022-05-05 18:24:15.769678</td>\n",
              "      <td>2022-05-05 18:24:15.848994</td>\n",
              "      <td>59</td>\n",
              "      <td>59</td>\n",
              "      <td>0</td>\n",
              "      <td>-56143116.0</td>\n",
              "      <td>117</td>\n",
              "      <td>59</td>\n",
              "      <td>h_size</td>\n",
              "      <td>63.0</td>\n",
              "      <td>{\"name\": \"IntUniformDistribution\", \"attributes...</td>\n",
              "    </tr>\n",
              "    <tr>\n",
              "      <th>117</th>\n",
              "      <td>59</td>\n",
              "      <td>58</td>\n",
              "      <td>1</td>\n",
              "      <td>COMPLETE</td>\n",
              "      <td>2022-05-05 18:24:15.769678</td>\n",
              "      <td>2022-05-05 18:24:15.848994</td>\n",
              "      <td>59</td>\n",
              "      <td>59</td>\n",
              "      <td>0</td>\n",
              "      <td>-56143116.0</td>\n",
              "      <td>118</td>\n",
              "      <td>59</td>\n",
              "      <td>activation</td>\n",
              "      <td>0.0</td>\n",
              "      <td>{\"name\": \"CategoricalDistribution\", \"attribute...</td>\n",
              "    </tr>\n",
              "    <tr>\n",
              "      <th>118</th>\n",
              "      <td>60</td>\n",
              "      <td>59</td>\n",
              "      <td>1</td>\n",
              "      <td>COMPLETE</td>\n",
              "      <td>2022-05-05 18:24:15.876511</td>\n",
              "      <td>2022-05-05 18:24:15.969278</td>\n",
              "      <td>60</td>\n",
              "      <td>60</td>\n",
              "      <td>0</td>\n",
              "      <td>-49683740.0</td>\n",
              "      <td>119</td>\n",
              "      <td>60</td>\n",
              "      <td>h_size</td>\n",
              "      <td>20.0</td>\n",
              "      <td>{\"name\": \"IntUniformDistribution\", \"attributes...</td>\n",
              "    </tr>\n",
              "    <tr>\n",
              "      <th>119</th>\n",
              "      <td>60</td>\n",
              "      <td>59</td>\n",
              "      <td>1</td>\n",
              "      <td>COMPLETE</td>\n",
              "      <td>2022-05-05 18:24:15.876511</td>\n",
              "      <td>2022-05-05 18:24:15.969278</td>\n",
              "      <td>60</td>\n",
              "      <td>60</td>\n",
              "      <td>0</td>\n",
              "      <td>-49683740.0</td>\n",
              "      <td>120</td>\n",
              "      <td>60</td>\n",
              "      <td>activation</td>\n",
              "      <td>0.0</td>\n",
              "      <td>{\"name\": \"CategoricalDistribution\", \"attribute...</td>\n",
              "    </tr>\n",
              "  </tbody>\n",
              "</table>\n",
              "<p>120 rows × 15 columns</p>\n",
              "</div>"
            ],
            "text/plain": [
              "     trial_id  number  study_id     state              datetime_start  \\\n",
              "0           1       0         1  COMPLETE  2022-05-05 18:24:07.088910   \n",
              "1           1       0         1  COMPLETE  2022-05-05 18:24:07.088910   \n",
              "2           2       1         1  COMPLETE  2022-05-05 18:24:07.261027   \n",
              "3           2       1         1  COMPLETE  2022-05-05 18:24:07.261027   \n",
              "4           3       2         1  COMPLETE  2022-05-05 18:24:07.396055   \n",
              "..        ...     ...       ...       ...                         ...   \n",
              "115        58      57         1  COMPLETE  2022-05-05 18:24:15.643470   \n",
              "116        59      58         1  COMPLETE  2022-05-05 18:24:15.769678   \n",
              "117        59      58         1  COMPLETE  2022-05-05 18:24:15.769678   \n",
              "118        60      59         1  COMPLETE  2022-05-05 18:24:15.876511   \n",
              "119        60      59         1  COMPLETE  2022-05-05 18:24:15.876511   \n",
              "\n",
              "              datetime_complete  trial_value_id  trial_id  objective  \\\n",
              "0    2022-05-05 18:24:07.211411               1         1          0   \n",
              "1    2022-05-05 18:24:07.211411               1         1          0   \n",
              "2    2022-05-05 18:24:07.357784               2         2          0   \n",
              "3    2022-05-05 18:24:07.357784               2         2          0   \n",
              "4    2022-05-05 18:24:07.497428               3         3          0   \n",
              "..                          ...             ...       ...        ...   \n",
              "115  2022-05-05 18:24:15.728973              58        58          0   \n",
              "116  2022-05-05 18:24:15.848994              59        59          0   \n",
              "117  2022-05-05 18:24:15.848994              59        59          0   \n",
              "118  2022-05-05 18:24:15.969278              60        60          0   \n",
              "119  2022-05-05 18:24:15.969278              60        60          0   \n",
              "\n",
              "           value  param_id  trial_id  param_name  param_value  \\\n",
              "0   -133734448.0         1         1      h_size        196.0   \n",
              "1   -133734448.0         2         1  activation          1.0   \n",
              "2    -71304232.0         3         2      h_size        120.0   \n",
              "3    -71304232.0         4         2  activation          1.0   \n",
              "4   -111138720.0         5         3      h_size        161.0   \n",
              "..           ...       ...       ...         ...          ...   \n",
              "115  -47547076.0       116        58  activation          0.0   \n",
              "116  -56143116.0       117        59      h_size         63.0   \n",
              "117  -56143116.0       118        59  activation          0.0   \n",
              "118  -49683740.0       119        60      h_size         20.0   \n",
              "119  -49683740.0       120        60  activation          0.0   \n",
              "\n",
              "                                     distribution_json  \n",
              "0    {\"name\": \"IntUniformDistribution\", \"attributes...  \n",
              "1    {\"name\": \"CategoricalDistribution\", \"attribute...  \n",
              "2    {\"name\": \"IntUniformDistribution\", \"attributes...  \n",
              "3    {\"name\": \"CategoricalDistribution\", \"attribute...  \n",
              "4    {\"name\": \"IntUniformDistribution\", \"attributes...  \n",
              "..                                                 ...  \n",
              "115  {\"name\": \"CategoricalDistribution\", \"attribute...  \n",
              "116  {\"name\": \"IntUniformDistribution\", \"attributes...  \n",
              "117  {\"name\": \"CategoricalDistribution\", \"attribute...  \n",
              "118  {\"name\": \"IntUniformDistribution\", \"attributes...  \n",
              "119  {\"name\": \"CategoricalDistribution\", \"attribute...  \n",
              "\n",
              "[120 rows x 15 columns]"
            ]
          },
          "execution_count": 328,
          "metadata": {},
          "output_type": "execute_result"
        }
      ],
      "source": [
        "trials = pd.read_sql(\"SELECT * FROM trials T \\\n",
        "    JOIN trial_values TV ON T.trial_id = TV.trial_id \\\n",
        "    JOIN trial_params TP ON T.trial_id = TP.trial_id;\", engine)\n",
        "trials\n"
      ]
    }
  ],
  "metadata": {
    "colab": {
      "collapsed_sections": [],
      "name": "codrift svm.ipynb",
      "provenance": []
    },
    "kernelspec": {
      "display_name": "Python 3",
      "name": "python3"
    },
    "language_info": {
      "codemirror_mode": {
        "name": "ipython",
        "version": 3
      },
      "file_extension": ".py",
      "mimetype": "text/x-python",
      "name": "python",
      "nbconvert_exporter": "python",
      "pygments_lexer": "ipython3",
      "version": "3.8.8"
    },
    "widgets": {
      "application/vnd.jupyter.widget-state+json": {
        "09d32ebb87f049b0b7a878653b3dee9e": {
          "model_module": "@jupyter-widgets/controls",
          "model_module_version": "1.5.0",
          "model_name": "DescriptionStyleModel",
          "state": {
            "_model_module": "@jupyter-widgets/controls",
            "_model_module_version": "1.5.0",
            "_model_name": "DescriptionStyleModel",
            "_view_count": null,
            "_view_module": "@jupyter-widgets/base",
            "_view_module_version": "1.2.0",
            "_view_name": "StyleView",
            "description_width": ""
          }
        },
        "3a1e17d0f5574c44bad2807dda619751": {
          "model_module": "@jupyter-widgets/base",
          "model_module_version": "1.2.0",
          "model_name": "LayoutModel",
          "state": {
            "_model_module": "@jupyter-widgets/base",
            "_model_module_version": "1.2.0",
            "_model_name": "LayoutModel",
            "_view_count": null,
            "_view_module": "@jupyter-widgets/base",
            "_view_module_version": "1.2.0",
            "_view_name": "LayoutView",
            "align_content": null,
            "align_items": null,
            "align_self": null,
            "border": null,
            "bottom": null,
            "display": null,
            "flex": null,
            "flex_flow": null,
            "grid_area": null,
            "grid_auto_columns": null,
            "grid_auto_flow": null,
            "grid_auto_rows": null,
            "grid_column": null,
            "grid_gap": null,
            "grid_row": null,
            "grid_template_areas": null,
            "grid_template_columns": null,
            "grid_template_rows": null,
            "height": null,
            "justify_content": null,
            "justify_items": null,
            "left": null,
            "margin": null,
            "max_height": null,
            "max_width": null,
            "min_height": null,
            "min_width": null,
            "object_fit": null,
            "object_position": null,
            "order": null,
            "overflow": null,
            "overflow_x": null,
            "overflow_y": null,
            "padding": null,
            "right": null,
            "top": null,
            "visibility": null,
            "width": null
          }
        },
        "3d57cf2d82d24c1b8053c320b255892a": {
          "model_module": "@jupyter-widgets/base",
          "model_module_version": "1.2.0",
          "model_name": "LayoutModel",
          "state": {
            "_model_module": "@jupyter-widgets/base",
            "_model_module_version": "1.2.0",
            "_model_name": "LayoutModel",
            "_view_count": null,
            "_view_module": "@jupyter-widgets/base",
            "_view_module_version": "1.2.0",
            "_view_name": "LayoutView",
            "align_content": null,
            "align_items": null,
            "align_self": null,
            "border": null,
            "bottom": null,
            "display": null,
            "flex": null,
            "flex_flow": null,
            "grid_area": null,
            "grid_auto_columns": null,
            "grid_auto_flow": null,
            "grid_auto_rows": null,
            "grid_column": null,
            "grid_gap": null,
            "grid_row": null,
            "grid_template_areas": null,
            "grid_template_columns": null,
            "grid_template_rows": null,
            "height": null,
            "justify_content": null,
            "justify_items": null,
            "left": null,
            "margin": null,
            "max_height": null,
            "max_width": null,
            "min_height": null,
            "min_width": null,
            "object_fit": null,
            "object_position": null,
            "order": null,
            "overflow": null,
            "overflow_x": null,
            "overflow_y": null,
            "padding": null,
            "right": null,
            "top": null,
            "visibility": null,
            "width": null
          }
        },
        "4166f52300624ed0817a3c7f83fd4e6d": {
          "model_module": "@jupyter-widgets/controls",
          "model_module_version": "1.5.0",
          "model_name": "DescriptionStyleModel",
          "state": {
            "_model_module": "@jupyter-widgets/controls",
            "_model_module_version": "1.5.0",
            "_model_name": "DescriptionStyleModel",
            "_view_count": null,
            "_view_module": "@jupyter-widgets/base",
            "_view_module_version": "1.2.0",
            "_view_name": "StyleView",
            "description_width": ""
          }
        },
        "4a6c5ced9cbc4433b1e3c0993c4383f4": {
          "model_module": "@jupyter-widgets/base",
          "model_module_version": "1.2.0",
          "model_name": "LayoutModel",
          "state": {
            "_model_module": "@jupyter-widgets/base",
            "_model_module_version": "1.2.0",
            "_model_name": "LayoutModel",
            "_view_count": null,
            "_view_module": "@jupyter-widgets/base",
            "_view_module_version": "1.2.0",
            "_view_name": "LayoutView",
            "align_content": null,
            "align_items": null,
            "align_self": null,
            "border": null,
            "bottom": null,
            "display": null,
            "flex": null,
            "flex_flow": null,
            "grid_area": null,
            "grid_auto_columns": null,
            "grid_auto_flow": null,
            "grid_auto_rows": null,
            "grid_column": null,
            "grid_gap": null,
            "grid_row": null,
            "grid_template_areas": null,
            "grid_template_columns": null,
            "grid_template_rows": null,
            "height": null,
            "justify_content": null,
            "justify_items": null,
            "left": null,
            "margin": null,
            "max_height": null,
            "max_width": null,
            "min_height": null,
            "min_width": null,
            "object_fit": null,
            "object_position": null,
            "order": null,
            "overflow": null,
            "overflow_x": null,
            "overflow_y": null,
            "padding": null,
            "right": null,
            "top": null,
            "visibility": null,
            "width": null
          }
        },
        "5f8684781e6c4483be6c85694266e7b9": {
          "model_module": "@jupyter-widgets/base",
          "model_module_version": "1.2.0",
          "model_name": "LayoutModel",
          "state": {
            "_model_module": "@jupyter-widgets/base",
            "_model_module_version": "1.2.0",
            "_model_name": "LayoutModel",
            "_view_count": null,
            "_view_module": "@jupyter-widgets/base",
            "_view_module_version": "1.2.0",
            "_view_name": "LayoutView",
            "align_content": null,
            "align_items": null,
            "align_self": null,
            "border": null,
            "bottom": null,
            "display": null,
            "flex": null,
            "flex_flow": null,
            "grid_area": null,
            "grid_auto_columns": null,
            "grid_auto_flow": null,
            "grid_auto_rows": null,
            "grid_column": null,
            "grid_gap": null,
            "grid_row": null,
            "grid_template_areas": null,
            "grid_template_columns": null,
            "grid_template_rows": null,
            "height": null,
            "justify_content": null,
            "justify_items": null,
            "left": null,
            "margin": null,
            "max_height": null,
            "max_width": null,
            "min_height": null,
            "min_width": null,
            "object_fit": null,
            "object_position": null,
            "order": null,
            "overflow": null,
            "overflow_x": null,
            "overflow_y": null,
            "padding": null,
            "right": null,
            "top": null,
            "visibility": null,
            "width": null
          }
        },
        "653d84546bf440998d2737616ae5558b": {
          "model_module": "@jupyter-widgets/controls",
          "model_module_version": "1.5.0",
          "model_name": "DescriptionStyleModel",
          "state": {
            "_model_module": "@jupyter-widgets/controls",
            "_model_module_version": "1.5.0",
            "_model_name": "DescriptionStyleModel",
            "_view_count": null,
            "_view_module": "@jupyter-widgets/base",
            "_view_module_version": "1.2.0",
            "_view_name": "StyleView",
            "description_width": ""
          }
        },
        "8d1f7434d33e48e191f7f0799f94fb95": {
          "model_module": "@jupyter-widgets/controls",
          "model_module_version": "1.5.0",
          "model_name": "HTMLModel",
          "state": {
            "_dom_classes": [],
            "_model_module": "@jupyter-widgets/controls",
            "_model_module_version": "1.5.0",
            "_model_name": "HTMLModel",
            "_view_count": null,
            "_view_module": "@jupyter-widgets/controls",
            "_view_module_version": "1.5.0",
            "_view_name": "HTMLView",
            "description": "",
            "description_tooltip": null,
            "layout": "IPY_MODEL_ddd41a108bc74520937652941bc620cf",
            "placeholder": "​",
            "style": "IPY_MODEL_4166f52300624ed0817a3c7f83fd4e6d",
            "value": "100%"
          }
        },
        "962fad8fb7e942bf9bd0d18f176bb0a0": {
          "model_module": "@jupyter-widgets/controls",
          "model_module_version": "1.5.0",
          "model_name": "DropdownModel",
          "state": {
            "_dom_classes": [],
            "_model_module": "@jupyter-widgets/controls",
            "_model_module_version": "1.5.0",
            "_model_name": "DropdownModel",
            "_options_labels": [
              "Afghanistan",
              "Albania",
              "Algeria",
              "Andorra",
              "Angola",
              "Antarctica",
              "Antigua and Barbuda",
              "Argentina",
              "Armenia",
              "Australia",
              "Austria",
              "Azerbaijan",
              "Bahamas",
              "Bahrain",
              "Bangladesh",
              "Barbados",
              "Belarus",
              "Belgium",
              "Belize",
              "Benin",
              "Bhutan",
              "Bolivia",
              "Bosnia and Herzegovina",
              "Botswana",
              "Brazil",
              "Brunei",
              "Bulgaria",
              "Burkina Faso",
              "Burma",
              "Burundi",
              "Cabo Verde",
              "Cambodia",
              "Cameroon",
              "Canada",
              "Central African Republic",
              "Chad",
              "Chile",
              "China",
              "Colombia",
              "Comoros",
              "Congo (Brazzaville)",
              "Congo (Kinshasa)",
              "Costa Rica",
              "Cote d'Ivoire",
              "Croatia",
              "Cuba",
              "Cyprus",
              "Czechia",
              "Denmark",
              "Diamond Princess",
              "Djibouti",
              "Dominica",
              "Dominican Republic",
              "Ecuador",
              "Egypt",
              "El Salvador",
              "Equatorial Guinea",
              "Eritrea",
              "Estonia",
              "Eswatini",
              "Ethiopia",
              "Fiji",
              "Finland",
              "France",
              "Gabon",
              "Gambia",
              "Georgia",
              "Germany",
              "Ghana",
              "Greece",
              "Grenada",
              "Guatemala",
              "Guinea",
              "Guinea-Bissau",
              "Guyana",
              "Haiti",
              "Holy See",
              "Honduras",
              "Hungary",
              "Iceland",
              "India",
              "Indonesia",
              "Iran",
              "Iraq",
              "Ireland",
              "Israel",
              "Italy",
              "Jamaica",
              "Japan",
              "Jordan",
              "Kazakhstan",
              "Kenya",
              "Kiribati",
              "Korea, South",
              "Kosovo",
              "Kuwait",
              "Kyrgyzstan",
              "Laos",
              "Latvia",
              "Lebanon",
              "Lesotho",
              "Liberia",
              "Libya",
              "Liechtenstein",
              "Lithuania",
              "Luxembourg",
              "MS Zaandam",
              "Madagascar",
              "Malawi",
              "Malaysia",
              "Maldives",
              "Mali",
              "Malta",
              "Marshall Islands",
              "Mauritania",
              "Mauritius",
              "Mexico",
              "Micronesia",
              "Moldova",
              "Monaco",
              "Mongolia",
              "Montenegro",
              "Morocco",
              "Mozambique",
              "Namibia",
              "Nepal",
              "Netherlands",
              "New Zealand",
              "Nicaragua",
              "Niger",
              "Nigeria",
              "North Macedonia",
              "Norway",
              "Oman",
              "Pakistan",
              "Palau",
              "Panama",
              "Papua New Guinea",
              "Paraguay",
              "Peru",
              "Philippines",
              "Poland",
              "Portugal",
              "Qatar",
              "Romania",
              "Russia",
              "Rwanda",
              "Saint Kitts and Nevis",
              "Saint Lucia",
              "Saint Vincent and the Grenadines",
              "Samoa",
              "San Marino",
              "Sao Tome and Principe",
              "Saudi Arabia",
              "Senegal",
              "Serbia",
              "Seychelles",
              "Sierra Leone",
              "Singapore",
              "Slovakia",
              "Slovenia",
              "Solomon Islands",
              "Somalia",
              "South Africa",
              "South Sudan",
              "Spain",
              "Sri Lanka",
              "Sudan",
              "Summer Olympics 2020",
              "Suriname",
              "Sweden",
              "Switzerland",
              "Syria",
              "Taiwan*",
              "Tajikistan",
              "Tanzania",
              "Thailand",
              "Timor-Leste",
              "Togo",
              "Tonga",
              "Trinidad and Tobago",
              "Tunisia",
              "Turkey",
              "US",
              "Uganda",
              "Ukraine",
              "United Arab Emirates",
              "United Kingdom",
              "Uruguay",
              "Uzbekistan",
              "Vanuatu",
              "Venezuela",
              "Vietnam",
              "West Bank and Gaza",
              "Winter Olympics 2022",
              "Yemen",
              "Zambia",
              "Zimbabwe"
            ],
            "_view_count": null,
            "_view_module": "@jupyter-widgets/controls",
            "_view_module_version": "1.5.0",
            "_view_name": "DropdownView",
            "description": "Country:",
            "description_tooltip": null,
            "disabled": false,
            "index": null,
            "layout": "IPY_MODEL_4a6c5ced9cbc4433b1e3c0993c4383f4",
            "style": "IPY_MODEL_09d32ebb87f049b0b7a878653b3dee9e"
          }
        },
        "cfc1dc7425e04bc9be32608d1218e9e1": {
          "model_module": "@jupyter-widgets/controls",
          "model_module_version": "1.5.0",
          "model_name": "ProgressStyleModel",
          "state": {
            "_model_module": "@jupyter-widgets/controls",
            "_model_module_version": "1.5.0",
            "_model_name": "ProgressStyleModel",
            "_view_count": null,
            "_view_module": "@jupyter-widgets/base",
            "_view_module_version": "1.2.0",
            "_view_name": "StyleView",
            "bar_color": null,
            "description_width": ""
          }
        },
        "ddd41a108bc74520937652941bc620cf": {
          "model_module": "@jupyter-widgets/base",
          "model_module_version": "1.2.0",
          "model_name": "LayoutModel",
          "state": {
            "_model_module": "@jupyter-widgets/base",
            "_model_module_version": "1.2.0",
            "_model_name": "LayoutModel",
            "_view_count": null,
            "_view_module": "@jupyter-widgets/base",
            "_view_module_version": "1.2.0",
            "_view_name": "LayoutView",
            "align_content": null,
            "align_items": null,
            "align_self": null,
            "border": null,
            "bottom": null,
            "display": null,
            "flex": null,
            "flex_flow": null,
            "grid_area": null,
            "grid_auto_columns": null,
            "grid_auto_flow": null,
            "grid_auto_rows": null,
            "grid_column": null,
            "grid_gap": null,
            "grid_row": null,
            "grid_template_areas": null,
            "grid_template_columns": null,
            "grid_template_rows": null,
            "height": null,
            "justify_content": null,
            "justify_items": null,
            "left": null,
            "margin": null,
            "max_height": null,
            "max_width": null,
            "min_height": null,
            "min_width": null,
            "object_fit": null,
            "object_position": null,
            "order": null,
            "overflow": null,
            "overflow_x": null,
            "overflow_y": null,
            "padding": null,
            "right": null,
            "top": null,
            "visibility": null,
            "width": null
          }
        },
        "f0ab99ad60d14c538a7ce9c3cd290d86": {
          "model_module": "@jupyter-widgets/controls",
          "model_module_version": "1.5.0",
          "model_name": "HBoxModel",
          "state": {
            "_dom_classes": [],
            "_model_module": "@jupyter-widgets/controls",
            "_model_module_version": "1.5.0",
            "_model_name": "HBoxModel",
            "_view_count": null,
            "_view_module": "@jupyter-widgets/controls",
            "_view_module_version": "1.5.0",
            "_view_name": "HBoxView",
            "box_style": "",
            "children": [
              "IPY_MODEL_8d1f7434d33e48e191f7f0799f94fb95",
              "IPY_MODEL_f3b93054d7184eb3a2b051b8e32fdad2",
              "IPY_MODEL_f56bcd615922478d98222978dcb1120d"
            ],
            "layout": "IPY_MODEL_3d57cf2d82d24c1b8053c320b255892a"
          }
        },
        "f3b93054d7184eb3a2b051b8e32fdad2": {
          "model_module": "@jupyter-widgets/controls",
          "model_module_version": "1.5.0",
          "model_name": "FloatProgressModel",
          "state": {
            "_dom_classes": [],
            "_model_module": "@jupyter-widgets/controls",
            "_model_module_version": "1.5.0",
            "_model_name": "FloatProgressModel",
            "_view_count": null,
            "_view_module": "@jupyter-widgets/controls",
            "_view_module_version": "1.5.0",
            "_view_name": "ProgressView",
            "bar_style": "success",
            "description": "",
            "description_tooltip": null,
            "layout": "IPY_MODEL_3a1e17d0f5574c44bad2807dda619751",
            "max": 198,
            "min": 0,
            "orientation": "horizontal",
            "style": "IPY_MODEL_cfc1dc7425e04bc9be32608d1218e9e1",
            "value": 198
          }
        },
        "f56bcd615922478d98222978dcb1120d": {
          "model_module": "@jupyter-widgets/controls",
          "model_module_version": "1.5.0",
          "model_name": "HTMLModel",
          "state": {
            "_dom_classes": [],
            "_model_module": "@jupyter-widgets/controls",
            "_model_module_version": "1.5.0",
            "_model_name": "HTMLModel",
            "_view_count": null,
            "_view_module": "@jupyter-widgets/controls",
            "_view_module_version": "1.5.0",
            "_view_name": "HTMLView",
            "description": "",
            "description_tooltip": null,
            "layout": "IPY_MODEL_5f8684781e6c4483be6c85694266e7b9",
            "placeholder": "​",
            "style": "IPY_MODEL_653d84546bf440998d2737616ae5558b",
            "value": " 198/198 [01:21&lt;00:00,  2.31it/s]"
          }
        }
      }
    }
  },
  "nbformat": 4,
  "nbformat_minor": 0
}
